{
 "cells": [
  {
   "cell_type": "markdown",
   "id": "52824b89-532a-4e54-87e9-1410813cd39e",
   "metadata": {},
   "source": [
    "# LangChain: Evaluation\n",
    "\n",
    "## Outline:\n",
    "\n",
    "* Example generation\n",
    "* Manual evaluation (and debuging)\n",
    "* LLM-assisted evaluation"
   ]
  },
  {
   "cell_type": "code",
   "execution_count": 1,
   "id": "b7ed03ed-1322-49e3-b2a2-33e94fb592ef",
   "metadata": {
    "height": 97,
    "tags": []
   },
   "outputs": [],
   "source": [
    "import os\n",
    "\n",
    "os.environ[\"OPENAI_API_KEY\"]= \"Api key\""
   ]
  },
  {
   "cell_type": "markdown",
   "id": "28008949",
   "metadata": {},
   "source": [
    "## Create our QandA application"
   ]
  },
  {
   "cell_type": "code",
   "execution_count": 3,
   "id": "974acf8e-8f88-42de-88f8-40a82cb58e8b",
   "metadata": {
    "height": 114
   },
   "outputs": [
    {
     "name": "stderr",
     "output_type": "stream",
     "text": [
      "Could not import azure.core python package.\n"
     ]
    }
   ],
   "source": [
    "from langchain.chains import RetrievalQA\n",
    "from langchain.chat_models import ChatOpenAI\n",
    "from langchain.document_loaders import CSVLoader,PyPDFLoader\n",
    "from langchain.indexes import VectorstoreIndexCreator\n",
    "from langchain.vectorstores import DocArrayInMemorySearch"
   ]
  },
  {
   "cell_type": "code",
   "execution_count": 4,
   "id": "9ec1106d",
   "metadata": {
    "height": 64
   },
   "outputs": [],
   "source": [
    "file = 'updated_cv.pdf'\n",
    "loader = PyPDFLoader(file_path=file)\n",
    "data = loader.load()"
   ]
  },
  {
   "cell_type": "code",
   "execution_count": 5,
   "id": "b31c218f",
   "metadata": {
    "height": 64
   },
   "outputs": [],
   "source": [
    "index = VectorstoreIndexCreator(\n",
    "    vectorstore_cls=DocArrayInMemorySearch\n",
    ").from_loaders([loader])"
   ]
  },
  {
   "cell_type": "code",
   "execution_count": 6,
   "id": "a2006054",
   "metadata": {
    "height": 183
   },
   "outputs": [],
   "source": [
    "llm = ChatOpenAI(temperature = 0.0)\n",
    "qa = RetrievalQA.from_chain_type(\n",
    "    llm=llm, \n",
    "    chain_type=\"stuff\", \n",
    "    retriever=index.vectorstore.as_retriever(), \n",
    "    verbose=True,\n",
    "    chain_type_kwargs = {\n",
    "        \"document_separator\": \"<<<<>>>>>\"\n",
    "    }\n",
    ")"
   ]
  },
  {
   "cell_type": "markdown",
   "id": "791ebd73",
   "metadata": {},
   "source": [
    "### Coming up with test datapoints"
   ]
  },
  {
   "cell_type": "code",
   "execution_count": 8,
   "id": "fb04a0f9",
   "metadata": {
    "height": 30
   },
   "outputs": [
    {
     "data": {
      "text/plain": [
       "Document(page_content='DEEP AK JAIS WAL\\nNear sitla mandir, H.E. School Road, Vistipara, Hirapur, Dhanbad,\\nJharkhandsj.deepak.jaiswal@gmail.com\\n9304161106\\nDOB 01/10/1997\\nin\\nhttps://www.linkedin.com/in/deepak-\\njaiswal-34b0b3174\\nObjective Seeking an entry-level position to begin my career in a high-level professional\\nenvironment.\\nEducation\\nSkills c++\\nDigital Electronics\\nEmbedded and Robotics\\nJavascript\\nReact.Js\\nNode.Js\\nProjects\\nHobbies\\nPersonal\\nStrengthsUniversity College of engineering and technology\\nB.Tech (Electronics and communication engineering)\\n2019 — 7.6\\nIndian school of Learning\\nIntermediate\\n2015 — 82%\\nIndian school of Learning\\nMatriculation\\n2013 — 8 CGPA\\nLine following land rover\\nWhen robot is placed on the ﬁxed path,it follows the path b y detecting the\\nline. The robot direction of motion depends on the two sensors outputs.\\nWhen the two sensors are on the line of path, robot moves forward. If the left\\nsensor moves awa y from the line, robot moves towards right. Similarly , if\\nright sensor moves awa y from the path, robot moves towards its left.\\nWhenever robot moves awa y from its path it is detected b y the IR sensor.\\nCell phone oper ated land rover\\nIn this project, the robot is controlled b y a mobile phone that mak es a call to\\nthe mobile phone attached to the robot. In the course of a call, if an y button\\nis pressed, a tone corresponding to the button pressed is heard at the other\\nend of the call. This tone is called ‘dual-tone multiple-frequency’ (D TMF) tone.\\nThe robot perceives this D TMF tone with the help of the phone stack ed in the\\nrobot\\nHOBBIES\\nPlaying chess\\nQuick learner\\nPositive thinking\\nTeam working\\nResponsible and sincere', metadata={'source': 'updated_cv.pdf', 'page': 0})"
      ]
     },
     "execution_count": 8,
     "metadata": {},
     "output_type": "execute_result"
    }
   ],
   "source": [
    "data[0]"
   ]
  },
  {
   "cell_type": "code",
   "execution_count": 9,
   "id": "fe4a88c2",
   "metadata": {
    "height": 30
   },
   "outputs": [
    {
     "ename": "IndexError",
     "evalue": "list index out of range",
     "output_type": "error",
     "traceback": [
      "\u001b[1;31m---------------------------------------------------------------------------\u001b[0m",
      "\u001b[1;31mIndexError\u001b[0m                                Traceback (most recent call last)",
      "Cell \u001b[1;32mIn[9], line 1\u001b[0m\n\u001b[1;32m----> 1\u001b[0m \u001b[43mdata\u001b[49m\u001b[43m[\u001b[49m\u001b[38;5;241;43m1\u001b[39;49m\u001b[43m]\u001b[49m\n",
      "\u001b[1;31mIndexError\u001b[0m: list index out of range"
     ]
    }
   ],
   "source": [
    "data[1]"
   ]
  },
  {
   "cell_type": "markdown",
   "id": "8d548aef",
   "metadata": {},
   "source": [
    "### Hard-coded examples"
   ]
  },
  {
   "cell_type": "code",
   "execution_count": 10,
   "id": "c2d59bf2",
   "metadata": {
    "height": 233
   },
   "outputs": [],
   "source": [
    "examples = [\n",
    "    {\n",
    "        \"query\": \"Does deepak completed B.Tech from Electronics and communication engineering\",\n",
    "        \"answer\": \"Yes\"\n",
    "    },\n",
    "    {\n",
    "        \"query\": \"Deepak belong from which city\",\n",
    "        \"answer\": \"Dhanbad\"\n",
    "    }\n",
    "]"
   ]
  },
  {
   "cell_type": "markdown",
   "id": "c7ce3e4f",
   "metadata": {},
   "source": [
    "### LLM-Generated examples"
   ]
  },
  {
   "cell_type": "code",
   "execution_count": 11,
   "id": "d44f8376",
   "metadata": {
    "height": 63
   },
   "outputs": [],
   "source": [
    "from langchain.evaluation.qa import QAGenerateChain\n"
   ]
  },
  {
   "cell_type": "code",
   "execution_count": 12,
   "id": "34e87816",
   "metadata": {
    "height": 46
   },
   "outputs": [],
   "source": [
    "example_gen_chain = QAGenerateChain.from_llm(ChatOpenAI())"
   ]
  },
  {
   "cell_type": "code",
   "execution_count": 13,
   "id": "62abae09",
   "metadata": {
    "height": 64
   },
   "outputs": [],
   "source": [
    "new_examples = example_gen_chain.apply_and_parse(\n",
    "    [{\"doc\": t} for t in data[:5]]\n",
    ")"
   ]
  },
  {
   "cell_type": "code",
   "execution_count": 17,
   "id": "97ab28b5",
   "metadata": {
    "height": 30
   },
   "outputs": [
    {
     "data": {
      "text/plain": [
       "{'query': 'What skills does Deepak Jaiswal possess that would make him a good fit for a professional environment?',\n",
       " 'answer': 'Deepak Jaiswal possesses skills in c++, Digital Electronics, Embedded and Robotics, Javascript, React.Js, and Node.Js that would make him a good fit for a professional environment.'}"
      ]
     },
     "execution_count": 17,
     "metadata": {},
     "output_type": "execute_result"
    }
   ],
   "source": [
    "new_examples[0]"
   ]
  },
  {
   "cell_type": "code",
   "execution_count": 18,
   "id": "0ebe4228",
   "metadata": {
    "height": 30
   },
   "outputs": [
    {
     "data": {
      "text/plain": [
       "Document(page_content='DEEP AK JAIS WAL\\nNear sitla mandir, H.E. School Road, Vistipara, Hirapur, Dhanbad,\\nJharkhandsj.deepak.jaiswal@gmail.com\\n9304161106\\nDOB 01/10/1997\\nin\\nhttps://www.linkedin.com/in/deepak-\\njaiswal-34b0b3174\\nObjective Seeking an entry-level position to begin my career in a high-level professional\\nenvironment.\\nEducation\\nSkills c++\\nDigital Electronics\\nEmbedded and Robotics\\nJavascript\\nReact.Js\\nNode.Js\\nProjects\\nHobbies\\nPersonal\\nStrengthsUniversity College of engineering and technology\\nB.Tech (Electronics and communication engineering)\\n2019 — 7.6\\nIndian school of Learning\\nIntermediate\\n2015 — 82%\\nIndian school of Learning\\nMatriculation\\n2013 — 8 CGPA\\nLine following land rover\\nWhen robot is placed on the ﬁxed path,it follows the path b y detecting the\\nline. The robot direction of motion depends on the two sensors outputs.\\nWhen the two sensors are on the line of path, robot moves forward. If the left\\nsensor moves awa y from the line, robot moves towards right. Similarly , if\\nright sensor moves awa y from the path, robot moves towards its left.\\nWhenever robot moves awa y from its path it is detected b y the IR sensor.\\nCell phone oper ated land rover\\nIn this project, the robot is controlled b y a mobile phone that mak es a call to\\nthe mobile phone attached to the robot. In the course of a call, if an y button\\nis pressed, a tone corresponding to the button pressed is heard at the other\\nend of the call. This tone is called ‘dual-tone multiple-frequency’ (D TMF) tone.\\nThe robot perceives this D TMF tone with the help of the phone stack ed in the\\nrobot\\nHOBBIES\\nPlaying chess\\nQuick learner\\nPositive thinking\\nTeam working\\nResponsible and sincere', metadata={'source': 'updated_cv.pdf', 'page': 0})"
      ]
     },
     "execution_count": 18,
     "metadata": {},
     "output_type": "execute_result"
    }
   ],
   "source": [
    "data[0]"
   ]
  },
  {
   "cell_type": "markdown",
   "id": "faf25f2f",
   "metadata": {},
   "source": [
    "### Combine examples"
   ]
  },
  {
   "cell_type": "code",
   "execution_count": 19,
   "id": "ada2a3fc",
   "metadata": {
    "height": 30
   },
   "outputs": [],
   "source": [
    "examples += new_examples"
   ]
  },
  {
   "cell_type": "code",
   "execution_count": 29,
   "id": "dd6ed73f",
   "metadata": {},
   "outputs": [
    {
     "name": "stdout",
     "output_type": "stream",
     "text": [
      "[{'query': 'Does deepak completed B.Tech from Electronics and communication engineering', 'answer': 'Yes'}, {'query': 'Deepak belong from which city', 'answer': 'Dhanbad'}, {'query': 'What skills does Deepak Jaiswal possess that would make him a good fit for a professional environment?', 'answer': 'Deepak Jaiswal possesses skills in c++, Digital Electronics, Embedded and Robotics, Javascript, React.Js, and Node.Js that would make him a good fit for a professional environment.'}]\n"
     ]
    }
   ],
   "source": [
    "print(examples)"
   ]
  },
  {
   "cell_type": "code",
   "execution_count": 20,
   "id": "9cdf5cf5",
   "metadata": {
    "height": 30
   },
   "outputs": [
    {
     "name": "stdout",
     "output_type": "stream",
     "text": [
      "\n",
      "\n",
      "\u001b[1m> Entering new RetrievalQA chain...\u001b[0m\n",
      "\n",
      "\u001b[1m> Finished chain.\u001b[0m\n"
     ]
    },
    {
     "data": {
      "text/plain": [
       "'Yes, Deepak completed B.Tech in Electronics and Communication Engineering from University College of Engineering and Technology.'"
      ]
     },
     "execution_count": 20,
     "metadata": {},
     "output_type": "execute_result"
    }
   ],
   "source": [
    "qa.run(examples[0][\"query\"])"
   ]
  },
  {
   "cell_type": "markdown",
   "id": "63f3cb08",
   "metadata": {},
   "source": [
    "## Manual Evaluation"
   ]
  },
  {
   "cell_type": "code",
   "execution_count": 21,
   "id": "fcaf622e",
   "metadata": {
    "height": 47
   },
   "outputs": [],
   "source": [
    "import langchain\n",
    "langchain.debug = True"
   ]
  },
  {
   "cell_type": "code",
   "execution_count": 22,
   "id": "8a142638",
   "metadata": {
    "height": 30,
    "scrolled": false
   },
   "outputs": [
    {
     "name": "stdout",
     "output_type": "stream",
     "text": [
      "\u001b[32;1m\u001b[1;3m[chain/start]\u001b[0m \u001b[1m[1:chain:RetrievalQA] Entering Chain run with input:\n",
      "\u001b[0m{\n",
      "  \"query\": \"Does deepak completed B.Tech from Electronics and communication engineering\"\n",
      "}\n",
      "\u001b[32;1m\u001b[1;3m[chain/start]\u001b[0m \u001b[1m[1:chain:RetrievalQA > 2:chain:StuffDocumentsChain] Entering Chain run with input:\n",
      "\u001b[0m[inputs]\n",
      "\u001b[32;1m\u001b[1;3m[chain/start]\u001b[0m \u001b[1m[1:chain:RetrievalQA > 2:chain:StuffDocumentsChain > 3:chain:LLMChain] Entering Chain run with input:\n",
      "\u001b[0m{\n",
      "  \"question\": \"Does deepak completed B.Tech from Electronics and communication engineering\",\n",
      "  \"context\": \"DEEP AK JAIS WAL\\nNear sitla mandir, H.E. School Road, Vistipara, Hirapur, Dhanbad,\\nJharkhandsj.deepak.jaiswal@gmail.com\\n9304161106\\nDOB 01/10/1997\\nin\\nhttps://www.linkedin.com/in/deepak-\\njaiswal-34b0b3174\\nObjective Seeking an entry-level position to begin my career in a high-level professional\\nenvironment.\\nEducation\\nSkills c++\\nDigital Electronics\\nEmbedded and Robotics\\nJavascript\\nReact.Js\\nNode.Js\\nProjects\\nHobbies\\nPersonal\\nStrengthsUniversity College of engineering and technology\\nB.Tech (Electronics and communication engineering)\\n2019 \\u2014 7.6\\nIndian school of Learning\\nIntermediate\\n2015 \\u2014 82%\\nIndian school of Learning\\nMatriculation\\n2013 \\u2014 8 CGPA\\nLine following land rover\\nWhen robot is placed on the \\ufb01xed path,it follows the path b y detecting the\\nline. The robot direction of motion depends on the two sensors outputs.\\nWhen the two sensors are on the line of path, robot moves forward. If the left\\nsensor moves awa y from the line, robot moves towards right. Similarly , if<<<<>>>>>right sensor moves awa y from the path, robot moves towards its left.\\nWhenever robot moves awa y from its path it is detected b y the IR sensor.\\nCell phone oper ated land rover\\nIn this project, the robot is controlled b y a mobile phone that mak es a call to\\nthe mobile phone attached to the robot. In the course of a call, if an y button\\nis pressed, a tone corresponding to the button pressed is heard at the other\\nend of the call. This tone is called \\u2018dual-tone multiple-frequency\\u2019 (D TMF) tone.\\nThe robot perceives this D TMF tone with the help of the phone stack ed in the\\nrobot\\nHOBBIES\\nPlaying chess\\nQuick learner\\nPositive thinking\\nTeam working\\nResponsible and sincere\"\n",
      "}\n",
      "\u001b[32;1m\u001b[1;3m[llm/start]\u001b[0m \u001b[1m[1:chain:RetrievalQA > 2:chain:StuffDocumentsChain > 3:chain:LLMChain > 4:llm:ChatOpenAI] Entering LLM run with input:\n",
      "\u001b[0m{\n",
      "  \"prompts\": [\n",
      "    \"System: Use the following pieces of context to answer the users question. \\nIf you don't know the answer, just say that you don't know, don't try to make up an answer.\\n----------------\\nDEEP AK JAIS WAL\\nNear sitla mandir, H.E. School Road, Vistipara, Hirapur, Dhanbad,\\nJharkhandsj.deepak.jaiswal@gmail.com\\n9304161106\\nDOB 01/10/1997\\nin\\nhttps://www.linkedin.com/in/deepak-\\njaiswal-34b0b3174\\nObjective Seeking an entry-level position to begin my career in a high-level professional\\nenvironment.\\nEducation\\nSkills c++\\nDigital Electronics\\nEmbedded and Robotics\\nJavascript\\nReact.Js\\nNode.Js\\nProjects\\nHobbies\\nPersonal\\nStrengthsUniversity College of engineering and technology\\nB.Tech (Electronics and communication engineering)\\n2019 \\u2014 7.6\\nIndian school of Learning\\nIntermediate\\n2015 \\u2014 82%\\nIndian school of Learning\\nMatriculation\\n2013 \\u2014 8 CGPA\\nLine following land rover\\nWhen robot is placed on the \\ufb01xed path,it follows the path b y detecting the\\nline. The robot direction of motion depends on the two sensors outputs.\\nWhen the two sensors are on the line of path, robot moves forward. If the left\\nsensor moves awa y from the line, robot moves towards right. Similarly , if<<<<>>>>>right sensor moves awa y from the path, robot moves towards its left.\\nWhenever robot moves awa y from its path it is detected b y the IR sensor.\\nCell phone oper ated land rover\\nIn this project, the robot is controlled b y a mobile phone that mak es a call to\\nthe mobile phone attached to the robot. In the course of a call, if an y button\\nis pressed, a tone corresponding to the button pressed is heard at the other\\nend of the call. This tone is called \\u2018dual-tone multiple-frequency\\u2019 (D TMF) tone.\\nThe robot perceives this D TMF tone with the help of the phone stack ed in the\\nrobot\\nHOBBIES\\nPlaying chess\\nQuick learner\\nPositive thinking\\nTeam working\\nResponsible and sincere\\nHuman: Does deepak completed B.Tech from Electronics and communication engineering\"\n",
      "  ]\n",
      "}\n",
      "\u001b[36;1m\u001b[1;3m[llm/end]\u001b[0m \u001b[1m[1:chain:RetrievalQA > 2:chain:StuffDocumentsChain > 3:chain:LLMChain > 4:llm:ChatOpenAI] [1.25s] Exiting LLM run with output:\n",
      "\u001b[0m{\n",
      "  \"generations\": [\n",
      "    [\n",
      "      {\n",
      "        \"text\": \"Yes, Deepak completed B.Tech in Electronics and Communication Engineering from University College of Engineering and Technology.\",\n",
      "        \"generation_info\": null,\n",
      "        \"message\": {\n",
      "          \"content\": \"Yes, Deepak completed B.Tech in Electronics and Communication Engineering from University College of Engineering and Technology.\",\n",
      "          \"additional_kwargs\": {},\n",
      "          \"example\": false\n",
      "        }\n",
      "      }\n",
      "    ]\n",
      "  ],\n",
      "  \"llm_output\": {\n",
      "    \"token_usage\": {\n",
      "      \"prompt_tokens\": 490,\n",
      "      \"completion_tokens\": 21,\n",
      "      \"total_tokens\": 511\n",
      "    },\n",
      "    \"model_name\": \"gpt-3.5-turbo\"\n",
      "  }\n",
      "}\n",
      "\u001b[36;1m\u001b[1;3m[chain/end]\u001b[0m \u001b[1m[1:chain:RetrievalQA > 2:chain:StuffDocumentsChain > 3:chain:LLMChain] [1.25s] Exiting Chain run with output:\n",
      "\u001b[0m{\n",
      "  \"text\": \"Yes, Deepak completed B.Tech in Electronics and Communication Engineering from University College of Engineering and Technology.\"\n",
      "}\n",
      "\u001b[36;1m\u001b[1;3m[chain/end]\u001b[0m \u001b[1m[1:chain:RetrievalQA > 2:chain:StuffDocumentsChain] [1.26s] Exiting Chain run with output:\n",
      "\u001b[0m{\n",
      "  \"output_text\": \"Yes, Deepak completed B.Tech in Electronics and Communication Engineering from University College of Engineering and Technology.\"\n",
      "}\n",
      "\u001b[36;1m\u001b[1;3m[chain/end]\u001b[0m \u001b[1m[1:chain:RetrievalQA] [1.75s] Exiting Chain run with output:\n",
      "\u001b[0m{\n",
      "  \"result\": \"Yes, Deepak completed B.Tech in Electronics and Communication Engineering from University College of Engineering and Technology.\"\n",
      "}\n"
     ]
    },
    {
     "data": {
      "text/plain": [
       "'Yes, Deepak completed B.Tech in Electronics and Communication Engineering from University College of Engineering and Technology.'"
      ]
     },
     "execution_count": 22,
     "metadata": {},
     "output_type": "execute_result"
    }
   ],
   "source": [
    "qa.run(examples[0][\"query\"])"
   ]
  },
  {
   "cell_type": "code",
   "execution_count": 23,
   "id": "b3d6bef0",
   "metadata": {
    "height": 47
   },
   "outputs": [],
   "source": [
    "# Turn off the debug mode\n",
    "langchain.debug = False"
   ]
  },
  {
   "cell_type": "markdown",
   "id": "d5bdbdce",
   "metadata": {},
   "source": [
    "## LLM assisted evaluation"
   ]
  },
  {
   "cell_type": "code",
   "execution_count": 24,
   "id": "a4dca05a",
   "metadata": {
    "height": 30
   },
   "outputs": [
    {
     "name": "stdout",
     "output_type": "stream",
     "text": [
      "\n",
      "\n",
      "\u001b[1m> Entering new RetrievalQA chain...\u001b[0m\n",
      "\n",
      "\u001b[1m> Finished chain.\u001b[0m\n",
      "\n",
      "\n",
      "\u001b[1m> Entering new RetrievalQA chain...\u001b[0m\n",
      "\n",
      "\u001b[1m> Finished chain.\u001b[0m\n",
      "\n",
      "\n",
      "\u001b[1m> Entering new RetrievalQA chain...\u001b[0m\n"
     ]
    },
    {
     "name": "stderr",
     "output_type": "stream",
     "text": [
      "Retrying langchain.chat_models.openai.ChatOpenAI.completion_with_retry.<locals>._completion_with_retry in 1.0 seconds as it raised RateLimitError: Rate limit reached for default-gpt-3.5-turbo in organization org-19pT0RCfHf630cjmlNbEmSjr on requests per min. Limit: 3 / min. Please try again in 20s. Contact us through our help center at help.openai.com if you continue to have issues. Please add a payment method to your account to increase your rate limit. Visit https://platform.openai.com/account/billing to add a payment method..\n",
      "Retrying langchain.chat_models.openai.ChatOpenAI.completion_with_retry.<locals>._completion_with_retry in 2.0 seconds as it raised RateLimitError: Rate limit reached for default-gpt-3.5-turbo in organization org-19pT0RCfHf630cjmlNbEmSjr on requests per min. Limit: 3 / min. Please try again in 20s. Contact us through our help center at help.openai.com if you continue to have issues. Please add a payment method to your account to increase your rate limit. Visit https://platform.openai.com/account/billing to add a payment method..\n",
      "Retrying langchain.chat_models.openai.ChatOpenAI.completion_with_retry.<locals>._completion_with_retry in 4.0 seconds as it raised RateLimitError: Rate limit reached for default-gpt-3.5-turbo in organization org-19pT0RCfHf630cjmlNbEmSjr on requests per min. Limit: 3 / min. Please try again in 20s. Contact us through our help center at help.openai.com if you continue to have issues. Please add a payment method to your account to increase your rate limit. Visit https://platform.openai.com/account/billing to add a payment method..\n"
     ]
    },
    {
     "name": "stdout",
     "output_type": "stream",
     "text": [
      "\n",
      "\u001b[1m> Finished chain.\u001b[0m\n"
     ]
    }
   ],
   "source": [
    "predictions = qa.apply(examples)"
   ]
  },
  {
   "cell_type": "code",
   "execution_count": 25,
   "id": "6012a3e0",
   "metadata": {
    "height": 30
   },
   "outputs": [],
   "source": [
    "from langchain.evaluation.qa import QAEvalChain"
   ]
  },
  {
   "cell_type": "code",
   "execution_count": 26,
   "id": "724b1c0b",
   "metadata": {
    "height": 47
   },
   "outputs": [],
   "source": [
    "llm = ChatOpenAI(temperature=0)\n",
    "eval_chain = QAEvalChain.from_llm(llm)"
   ]
  },
  {
   "cell_type": "code",
   "execution_count": 27,
   "id": "8b46ae55",
   "metadata": {
    "height": 46
   },
   "outputs": [
    {
     "name": "stderr",
     "output_type": "stream",
     "text": [
      "Retrying langchain.chat_models.openai.ChatOpenAI.completion_with_retry.<locals>._completion_with_retry in 1.0 seconds as it raised RateLimitError: Rate limit reached for default-gpt-3.5-turbo in organization org-19pT0RCfHf630cjmlNbEmSjr on requests per min. Limit: 3 / min. Please try again in 20s. Contact us through our help center at help.openai.com if you continue to have issues. Please add a payment method to your account to increase your rate limit. Visit https://platform.openai.com/account/billing to add a payment method..\n",
      "Retrying langchain.chat_models.openai.ChatOpenAI.completion_with_retry.<locals>._completion_with_retry in 2.0 seconds as it raised RateLimitError: Rate limit reached for default-gpt-3.5-turbo in organization org-19pT0RCfHf630cjmlNbEmSjr on requests per min. Limit: 3 / min. Please try again in 20s. Contact us through our help center at help.openai.com if you continue to have issues. Please add a payment method to your account to increase your rate limit. Visit https://platform.openai.com/account/billing to add a payment method..\n",
      "Retrying langchain.chat_models.openai.ChatOpenAI.completion_with_retry.<locals>._completion_with_retry in 4.0 seconds as it raised RateLimitError: Rate limit reached for default-gpt-3.5-turbo in organization org-19pT0RCfHf630cjmlNbEmSjr on requests per min. Limit: 3 / min. Please try again in 20s. Contact us through our help center at help.openai.com if you continue to have issues. Please add a payment method to your account to increase your rate limit. Visit https://platform.openai.com/account/billing to add a payment method..\n",
      "Retrying langchain.chat_models.openai.ChatOpenAI.completion_with_retry.<locals>._completion_with_retry in 8.0 seconds as it raised RateLimitError: Rate limit reached for default-gpt-3.5-turbo in organization org-19pT0RCfHf630cjmlNbEmSjr on requests per min. Limit: 3 / min. Please try again in 20s. Contact us through our help center at help.openai.com if you continue to have issues. Please add a payment method to your account to increase your rate limit. Visit https://platform.openai.com/account/billing to add a payment method..\n",
      "Retrying langchain.chat_models.openai.ChatOpenAI.completion_with_retry.<locals>._completion_with_retry in 1.0 seconds as it raised RateLimitError: Rate limit reached for default-gpt-3.5-turbo in organization org-19pT0RCfHf630cjmlNbEmSjr on requests per min. Limit: 3 / min. Please try again in 20s. Contact us through our help center at help.openai.com if you continue to have issues. Please add a payment method to your account to increase your rate limit. Visit https://platform.openai.com/account/billing to add a payment method..\n",
      "Retrying langchain.chat_models.openai.ChatOpenAI.completion_with_retry.<locals>._completion_with_retry in 2.0 seconds as it raised RateLimitError: Rate limit reached for default-gpt-3.5-turbo in organization org-19pT0RCfHf630cjmlNbEmSjr on requests per min. Limit: 3 / min. Please try again in 20s. Contact us through our help center at help.openai.com if you continue to have issues. Please add a payment method to your account to increase your rate limit. Visit https://platform.openai.com/account/billing to add a payment method..\n",
      "Retrying langchain.chat_models.openai.ChatOpenAI.completion_with_retry.<locals>._completion_with_retry in 4.0 seconds as it raised RateLimitError: Rate limit reached for default-gpt-3.5-turbo in organization org-19pT0RCfHf630cjmlNbEmSjr on requests per min. Limit: 3 / min. Please try again in 20s. Contact us through our help center at help.openai.com if you continue to have issues. Please add a payment method to your account to increase your rate limit. Visit https://platform.openai.com/account/billing to add a payment method..\n",
      "Retrying langchain.chat_models.openai.ChatOpenAI.completion_with_retry.<locals>._completion_with_retry in 8.0 seconds as it raised RateLimitError: Rate limit reached for default-gpt-3.5-turbo in organization org-19pT0RCfHf630cjmlNbEmSjr on requests per min. Limit: 3 / min. Please try again in 20s. Contact us through our help center at help.openai.com if you continue to have issues. Please add a payment method to your account to increase your rate limit. Visit https://platform.openai.com/account/billing to add a payment method..\n",
      "Retrying langchain.chat_models.openai.ChatOpenAI.completion_with_retry.<locals>._completion_with_retry in 16.0 seconds as it raised RateLimitError: Rate limit reached for default-gpt-3.5-turbo in organization org-19pT0RCfHf630cjmlNbEmSjr on requests per min. Limit: 3 / min. Please try again in 20s. Contact us through our help center at help.openai.com if you continue to have issues. Please add a payment method to your account to increase your rate limit. Visit https://platform.openai.com/account/billing to add a payment method..\n"
     ]
    }
   ],
   "source": [
    "graded_outputs = eval_chain.evaluate(examples, predictions)"
   ]
  },
  {
   "cell_type": "code",
   "execution_count": 28,
   "id": "3437cfbe",
   "metadata": {
    "height": 148
   },
   "outputs": [
    {
     "name": "stdout",
     "output_type": "stream",
     "text": [
      "Example 0:\n",
      "Question: Does deepak completed B.Tech from Electronics and communication engineering\n",
      "Real Answer: Yes\n",
      "Predicted Answer: Yes, Deepak completed B.Tech in Electronics and Communication Engineering from University College of Engineering and Technology.\n",
      "Predicted Grade: CORRECT\n",
      "\n",
      "Example 1:\n",
      "Question: Deepak belong from which city\n",
      "Real Answer: Dhanbad\n",
      "Predicted Answer: The given context does not provide information about the city Deepak belongs to.\n",
      "Predicted Grade: INCORRECT\n",
      "\n",
      "Example 2:\n",
      "Question: What skills does Deepak Jaiswal possess that would make him a good fit for a professional environment?\n",
      "Real Answer: Deepak Jaiswal possesses skills in c++, Digital Electronics, Embedded and Robotics, Javascript, React.Js, and Node.Js that would make him a good fit for a professional environment.\n",
      "Predicted Answer: Deepak Jaiswal possesses skills in C++, Digital Electronics, Embedded and Robotics, Javascript, React.Js, and Node.Js, which would make him a good fit for a professional environment. Additionally, he has completed his B.Tech in Electronics and Communication Engineering with a good GPA, which shows his dedication and ability to learn. He also has experience working on projects such as Line Following Land Rover and Cell Phone Operated Land Rover, which demonstrates his practical skills and ability to work on real-world problems.\n",
      "Predicted Grade: CORRECT\n",
      "\n"
     ]
    }
   ],
   "source": [
    "for i, eg in enumerate(examples):\n",
    "    print(f\"Example {i}:\")\n",
    "    print(\"Question: \" + predictions[i]['query'])\n",
    "    print(\"Real Answer: \" + predictions[i]['answer'])\n",
    "    print(\"Predicted Answer: \" + predictions[i]['result'])\n",
    "    print(\"Predicted Grade: \" + graded_outputs[i]['text'])\n",
    "    print()"
   ]
  },
  {
   "cell_type": "code",
   "execution_count": null,
   "id": "ce542854",
   "metadata": {
    "height": 30
   },
   "outputs": [],
   "source": []
  },
  {
   "cell_type": "code",
   "execution_count": null,
   "id": "be5b2aae",
   "metadata": {
    "height": 30
   },
   "outputs": [],
   "source": []
  },
  {
   "cell_type": "code",
   "execution_count": null,
   "id": "319798ba",
   "metadata": {
    "height": 30
   },
   "outputs": [],
   "source": []
  },
  {
   "cell_type": "code",
   "execution_count": null,
   "id": "89a504ad",
   "metadata": {
    "height": 30
   },
   "outputs": [],
   "source": []
  },
  {
   "cell_type": "code",
   "execution_count": null,
   "id": "dedd758b",
   "metadata": {
    "height": 30
   },
   "outputs": [],
   "source": []
  },
  {
   "cell_type": "code",
   "execution_count": null,
   "id": "36885b20",
   "metadata": {
    "height": 30
   },
   "outputs": [],
   "source": []
  },
  {
   "cell_type": "code",
   "execution_count": null,
   "id": "65c6cfb6",
   "metadata": {
    "height": 30
   },
   "outputs": [],
   "source": []
  },
  {
   "cell_type": "code",
   "execution_count": null,
   "id": "9ad3c7cc",
   "metadata": {
    "height": 30
   },
   "outputs": [],
   "source": []
  },
  {
   "cell_type": "code",
   "execution_count": null,
   "id": "26ac493e",
   "metadata": {
    "height": 30
   },
   "outputs": [],
   "source": []
  },
  {
   "cell_type": "code",
   "execution_count": null,
   "id": "f94cdacd",
   "metadata": {
    "height": 30
   },
   "outputs": [],
   "source": []
  }
 ],
 "metadata": {
  "kernelspec": {
   "display_name": "Python 3 (ipykernel)",
   "language": "python",
   "name": "python3"
  },
  "language_info": {
   "codemirror_mode": {
    "name": "ipython",
    "version": 3
   },
   "file_extension": ".py",
   "mimetype": "text/x-python",
   "name": "python",
   "nbconvert_exporter": "python",
   "pygments_lexer": "ipython3",
   "version": "3.10.9"
  }
 },
 "nbformat": 4,
 "nbformat_minor": 5
}
